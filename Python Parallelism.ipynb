{
 "cells": [
  {
   "cell_type": "markdown",
   "metadata": {},
   "source": [
    "# Python Parallelism"
   ]
  },
  {
   "cell_type": "raw",
   "metadata": {},
   "source": [
    "Executing tasks sequentially might not be a good idea. If the input to the second task isn’t an output of the first task, you’re wasting both time and CPU"
   ]
  },
  {
   "cell_type": "raw",
   "metadata": {},
   "source": [
    "As we know, Python’s Global Interpreter Lock (GIL) mechanism allows only one thread to execute Python bytecode at once.\n",
    "you’ll learn how to execute tasks in parallel with Python with the concurrent.futures library. "
   ]
  },
  {
   "cell_type": "markdown",
   "metadata": {},
   "source": [
    "# Problem"
   ]
  },
  {
   "cell_type": "raw",
   "metadata": {},
   "source": [
    "The goal is to connect to jsonplaceholder.typicode.com – a free fake REST API.\n",
    "\n",
    "You’ll connect to several endpoints and obtain data in the JSON format. There’ll be six endpoints in total. Not a whole lot, and Python will most likely complete the task in a second or so. Not too great for demonstrating multiprocessing capabilities, so we’ll spice things up a bit.\n",
    "\n",
    "In addition to fetching API data, the program will also sleep for a second between making requests. As there are six endpoints, the program should do nothing for six seconds – but only when the calls are executed sequentially.\n",
    "\n",
    "Let’s test the execution time without parallelism first."
   ]
  },
  {
   "cell_type": "markdown",
   "metadata": {},
   "source": [
    "# Running sequentially"
   ]
  },
  {
   "cell_type": "code",
   "execution_count": 4,
   "metadata": {},
   "outputs": [
    {
     "name": "stdout",
     "output_type": "stream",
     "text": [
      "Fetching: https://jsonplaceholder.typicode.com/posts...\n",
      "Fetched https://jsonplaceholder.typicode.com/posts!\n",
      "Fetching: https://jsonplaceholder.typicode.com/comments...\n",
      "Fetched https://jsonplaceholder.typicode.com/comments!\n",
      "Fetching: https://jsonplaceholder.typicode.com/albums...\n",
      "Fetched https://jsonplaceholder.typicode.com/albums!\n",
      "Fetching: https://jsonplaceholder.typicode.com/photos...\n",
      "Fetched https://jsonplaceholder.typicode.com/photos!\n",
      "Fetching: https://jsonplaceholder.typicode.com/todos...\n",
      "Fetched https://jsonplaceholder.typicode.com/todos!\n",
      "Fetching: https://jsonplaceholder.typicode.com/users...\n",
      "Fetched https://jsonplaceholder.typicode.com/users!\n",
      "\n",
      "All done! Took 7.15 seconds\n"
     ]
    }
   ],
   "source": [
    "import time\n",
    "import requests\n",
    "\n",
    "URLS = [\n",
    "    'https://jsonplaceholder.typicode.com/posts',\n",
    "    'https://jsonplaceholder.typicode.com/comments',\n",
    "    'https://jsonplaceholder.typicode.com/albums',\n",
    "    'https://jsonplaceholder.typicode.com/photos',\n",
    "    'https://jsonplaceholder.typicode.com/todos',\n",
    "    'https://jsonplaceholder.typicode.com/users'\n",
    "]\n",
    "\n",
    "def fetch_single(url: str) -> None:\n",
    "    print(f'Fetching: {url}...')\n",
    "    requests.get(url)\n",
    "    time.sleep(1)\n",
    "    print(f'Fetched {url}!')\n",
    "\n",
    "\n",
    "if __name__ == '__main__':\n",
    "    time_start = time.time()\n",
    "    \n",
    "    for weburl in URLS:\n",
    "        fetch_single(weburl)\n",
    "\n",
    "    time_end = time.time()\n",
    "    print(f'\\nAll done! Took {round(time_end - time_start, 2)} seconds')"
   ]
  },
  {
   "cell_type": "markdown",
   "metadata": {},
   "source": [
    "# Running  in parallel"
   ]
  },
  {
   "cell_type": "code",
   "execution_count": 5,
   "metadata": {},
   "outputs": [
    {
     "name": "stdout",
     "output_type": "stream",
     "text": [
      "\n",
      "All done! Took 0.18 seconds\n"
     ]
    }
   ],
   "source": [
    "import time\n",
    "import requests\n",
    "import concurrent.futures\n",
    "\n",
    "URLS = [\n",
    "    'https://jsonplaceholder.typicode.com/posts',\n",
    "    'https://jsonplaceholder.typicode.com/comments',\n",
    "    'https://jsonplaceholder.typicode.com/albums',\n",
    "    'https://jsonplaceholder.typicode.com/photos',\n",
    "    'https://jsonplaceholder.typicode.com/todos',\n",
    "    'https://jsonplaceholder.typicode.com/users'\n",
    "]\n",
    "\n",
    "def fetch_single(url: str) -> None:\n",
    "    print(f'Fetching: {url}...')\n",
    "    requests.get(url)\n",
    "    time.sleep(1)\n",
    "    print(f'Fetched {url}!')\n",
    "\n",
    "\n",
    "if __name__ == '__main__':\n",
    "    time_start = time.time()\n",
    "\n",
    "    with concurrent.futures.ProcessPoolExecutor() as ppe:\n",
    "        for url in URLS:\n",
    "            ppe.submit(fetch_single, url)\n",
    "\n",
    "    time_end = time.time()\n",
    "    print(f'\\nAll done! Took {round(time_end - time_start, 2)} seconds')"
   ]
  },
  {
   "cell_type": "raw",
   "metadata": {},
   "source": [
    "Python Module – Concurrent.futures\n",
    "Python standard library has a module called the concurrent.futures. This module was added in Python 3.2 for providing the developers a high-level interface for launching asynchronous tasks. It is an abstraction layer on the top of Python’s threading and multiprocessing modules for providing the interface for running the tasks using pool of thread or processes.\n",
    "\n",
    "In our subsequent sections, we will look at the different subclasses of the concurrent.futures module.\n",
    "\n",
    "Executor Class\n",
    "Executor is an abstract class of the concurrent.futures Python module. It cannot be used directly and we need to use one of the following concrete subclasses −\n",
    "\n",
    "ThreadPoolExecutor\n",
    "ProcessPoolExecutor"
   ]
  }
 ],
 "metadata": {
  "kernelspec": {
   "display_name": "Python 3",
   "language": "python",
   "name": "python3"
  },
  "language_info": {
   "codemirror_mode": {
    "name": "ipython",
    "version": 3
   },
   "file_extension": ".py",
   "mimetype": "text/x-python",
   "name": "python",
   "nbconvert_exporter": "python",
   "pygments_lexer": "ipython3",
   "version": "3.8.3"
  }
 },
 "nbformat": 4,
 "nbformat_minor": 4
}
